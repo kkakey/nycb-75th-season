{
 "cells": [
  {
   "cell_type": "code",
   "execution_count": 20,
   "metadata": {},
   "outputs": [],
   "source": [
    "import urllib.request\n",
    "from bs4 import BeautifulSoup\n",
    "import requests\n",
    "import re\n",
    "from tika import parser\n",
    "from tqdm import tqdm\n",
    "import pandas as pd\n",
    "import itertools\n",
    "import numpy as np\n",
    "from collections import Counter\n",
    "import datetime"
   ]
  },
  {
   "cell_type": "code",
   "execution_count": 21,
   "metadata": {},
   "outputs": [],
   "source": [
    "input = '1   1 1   1'\n",
    "\n",
    "input = input.split(\" \")\n",
    "c = Counter(input)\n",
    "s = \"\".join(c.keys())\n"
   ]
  },
  {
   "cell_type": "code",
   "execution_count": 22,
   "metadata": {},
   "outputs": [],
   "source": [
    "s_double = [key for key, value in c.items() if value==4 and key!='']*2"
   ]
  },
  {
   "cell_type": "code",
   "execution_count": 23,
   "metadata": {},
   "outputs": [],
   "source": [
    "def remov_duplicates(input):\n",
    "    input = input.split(\" \")\n",
    "    c = Counter(input)\n",
    "    s = \"\".join(c.keys())\n",
    "    s_double = [key for key, value in c.items() if value==4 and key!='']*2\n",
    "    if s_double:\n",
    "        s=\"\".join(s_double)\n",
    "    return(s)\n",
    "\n",
    "def has_numbers(input):\n",
    "    digit_count = sum(char.isdigit() for char in input)\n",
    "    if digit_count>1: \n",
    "        return True \n",
    "    else: \n",
    "        return False\n",
    "    \n",
    "def clean_data(i):\n",
    "    i = re.sub(\"[5-9]\\s+P M\", \"\", i)\n",
    "    i = re.sub('[A-Z]','', i)\n",
    "    i = i.replace(\"\",\" \")\n",
    "    i = remov_duplicates(i)\n",
    "    return(i)"
   ]
  },
  {
   "cell_type": "code",
   "execution_count": 24,
   "metadata": {},
   "outputs": [],
   "source": [
    "pdf = './raw_data/NYCB_2023 Fall Season.pdf'\n",
    "rawText = parser.from_file(pdf)"
   ]
  },
  {
   "cell_type": "code",
   "execution_count": 25,
   "metadata": {},
   "outputs": [],
   "source": [
    "exclude = ['75TH ANNIVERSARY']\n",
    "\n",
    "rawList = rawText['content'].splitlines()\n",
    "rawList = [i for i in rawList if len(i)>0 and i not in exclude]"
   ]
  },
  {
   "cell_type": "code",
   "execution_count": 26,
   "metadata": {},
   "outputs": [],
   "source": [
    "### join names that are split\n",
    "join_ind = []\n",
    "exceptions = ['Tarantella ']\n",
    "for ind, i in enumerate(rawList): \n",
    "    if i.endswith(' ') and i not in exceptions and not has_numbers(i):\n",
    "        join_ind.append(ind)\n",
    "        join_ind.append(ind+1)\n",
    "\n",
    "l = sorted(set(join_ind))\n",
    "group = []\n",
    "val = 0\n",
    "for ind, i in enumerate(l):\n",
    "    if ind==0:\n",
    "        group.append(val)\n",
    "    else:\n",
    "        if l[ind] - l[ind-1] > 1:\n",
    "            val += 1\n",
    "        group.append(val)\n",
    "\n",
    "g_df = pd.DataFrame({'ind':l, 'group':group})\n",
    "ind_to_pop = []\n",
    "for ind in range(g_df.shape[0]):\n",
    "    min_ind = g_df[g_df.group==ind].ind.min()\n",
    "    max_ind = g_df[g_df.group==ind].ind.max()+1\n",
    "    if not np.isnan(min_ind):\n",
    "        new_string = ''.join(rawList[min_ind:max_ind])\n",
    "        rawList[min_ind] = new_string\n",
    "        ind_to_pop.append([i for i in range(min_ind+1, max_ind, 1)])\n",
    "\n",
    "ind_to_pop = list(itertools.chain(*ind_to_pop))\n",
    "rawList = [i for j, i in enumerate(rawList) if j not in ind_to_pop]"
   ]
  },
  {
   "cell_type": "code",
   "execution_count": 27,
   "metadata": {},
   "outputs": [],
   "source": [
    "days = ['TUES', 'WED', 'THUR', 'FRI', 'SAT - MAT', 'SAT - EVE', 'SUN']"
   ]
  },
  {
   "cell_type": "markdown",
   "metadata": {},
   "source": []
  },
  {
   "cell_type": "code",
   "execution_count": 28,
   "metadata": {},
   "outputs": [],
   "source": [
    "rawList = rawList[rawList.index('FALL SEPT-OCT 2023')+1:-1]"
   ]
  },
  {
   "cell_type": "code",
   "execution_count": 29,
   "metadata": {},
   "outputs": [],
   "source": [
    "dates = []\n",
    "dates_ind = []\n",
    "for ind, i in enumerate(rawList):\n",
    "    if has_numbers(i):\n",
    "        dates.append(clean_data(i))\n",
    "        dates_ind.append(ind)"
   ]
  },
  {
   "cell_type": "code",
   "execution_count": 30,
   "metadata": {},
   "outputs": [],
   "source": [
    "program_groups = sorted([i for i in range(0, len(dates), 1)] * round(len(dates)/7))\n",
    "program_groups_ind = [i for i in range(0, 4, 1)] * len(program_groups)"
   ]
  },
  {
   "cell_type": "code",
   "execution_count": 31,
   "metadata": {},
   "outputs": [],
   "source": [
    "M = round(len(dates)/7)  #columns\n",
    "N = 7 #rows\n",
    "matrix = [[0] * N for _ in range(M)]"
   ]
  },
  {
   "cell_type": "code",
   "execution_count": 32,
   "metadata": {},
   "outputs": [],
   "source": [
    "# for ind, g, g_ind in zip(range(len(dates_ind)), program_groups, program_groups_ind):\n",
    "#     min_ind = dates_ind[ind]+1\n",
    "#     # try:\n",
    "#     max_ind = dates_ind[ind+1]\n",
    "# # print(ind)\n",
    "# # print(rawList[min_ind:max_ind])\n",
    "#     print(g, g_ind)\n",
    "#     matrix[g_ind][g] = rawList[min_ind:max_ind]\n",
    "#     # except:\n",
    "#     #     continue\n",
    "\n",
    "# pd.DataFrame(matrix)\n"
   ]
  },
  {
   "cell_type": "code",
   "execution_count": 33,
   "metadata": {},
   "outputs": [],
   "source": [
    "program_names = []\n",
    "pieces = []\n",
    "for ind in range(len(dates_ind)):\n",
    "    min_ind = dates_ind[ind]+1\n",
    "    try:\n",
    "        max_ind = dates_ind[ind+1]\n",
    "    except:\n",
    "        max_ind = -1\n",
    "    subset = rawList[min_ind:max_ind]\n",
    "    program_name = \"\".join([i for i in subset if i.isupper()])\n",
    "    s = \", \".join([re.sub(' +', ' ', i).strip() for i in subset if i not in program_name])\n",
    "    program_names.append(program_name)\n",
    "    pieces.append(s)\n"
   ]
  },
  {
   "cell_type": "code",
   "execution_count": 34,
   "metadata": {},
   "outputs": [],
   "source": [
    "# date, day of week, program title, pieces"
   ]
  },
  {
   "cell_type": "code",
   "execution_count": 35,
   "metadata": {},
   "outputs": [],
   "source": [
    "fall_months = ['SEPT', 'OCT']"
   ]
  },
  {
   "cell_type": "code",
   "execution_count": 36,
   "metadata": {},
   "outputs": [],
   "source": [
    "d = pd.DataFrame({\n",
    "    'date':dates,\n",
    "    'day':list(np.repeat(days, 4)),\n",
    "    'program name':program_names,\n",
    "    'repertory':pieces\n",
    "})"
   ]
  },
  {
   "cell_type": "code",
   "execution_count": 37,
   "metadata": {},
   "outputs": [
    {
     "data": {
      "text/html": [
       "<div>\n",
       "<style scoped>\n",
       "    .dataframe tbody tr th:only-of-type {\n",
       "        vertical-align: middle;\n",
       "    }\n",
       "\n",
       "    .dataframe tbody tr th {\n",
       "        vertical-align: top;\n",
       "    }\n",
       "\n",
       "    .dataframe thead th {\n",
       "        text-align: right;\n",
       "    }\n",
       "</style>\n",
       "<table border=\"1\" class=\"dataframe\">\n",
       "  <thead>\n",
       "    <tr style=\"text-align: right;\">\n",
       "      <th></th>\n",
       "      <th>date</th>\n",
       "      <th>day</th>\n",
       "      <th>program name</th>\n",
       "      <th>repertory</th>\n",
       "    </tr>\n",
       "  </thead>\n",
       "  <tbody>\n",
       "    <tr>\n",
       "      <th>16</th>\n",
       "      <td>30</td>\n",
       "      <td>SAT - MAT</td>\n",
       "      <td>ALL BALANCHINE II</td>\n",
       "      <td>Bourrée Fantasque, Agon, Slaughter on Tenth Av...</td>\n",
       "    </tr>\n",
       "    <tr>\n",
       "      <th>17</th>\n",
       "      <td>23</td>\n",
       "      <td>SAT - MAT</td>\n",
       "      <td>JEWELS</td>\n",
       "      <td></td>\n",
       "    </tr>\n",
       "    <tr>\n",
       "      <th>18</th>\n",
       "      <td>7</td>\n",
       "      <td>SAT - MAT</td>\n",
       "      <td>ALL BALANCHINE III</td>\n",
       "      <td>Apollo, La Sonnambula, Tschaikovsky Piano Conc...</td>\n",
       "    </tr>\n",
       "    <tr>\n",
       "      <th>19</th>\n",
       "      <td>14</td>\n",
       "      <td>SAT - MAT</td>\n",
       "      <td>ALL BALANCHINE V</td>\n",
       "      <td>Serenade, Orpheus, Theme and Variations</td>\n",
       "    </tr>\n",
       "  </tbody>\n",
       "</table>\n",
       "</div>"
      ],
      "text/plain": [
       "   date        day        program name  \\\n",
       "16   30  SAT - MAT   ALL BALANCHINE II   \n",
       "17   23  SAT - MAT              JEWELS   \n",
       "18    7  SAT - MAT  ALL BALANCHINE III   \n",
       "19   14  SAT - MAT    ALL BALANCHINE V   \n",
       "\n",
       "                                            repertory  \n",
       "16  Bourrée Fantasque, Agon, Slaughter on Tenth Av...  \n",
       "17                                                     \n",
       "18  Apollo, La Sonnambula, Tschaikovsky Piano Conc...  \n",
       "19            Serenade, Orpheus, Theme and Variations  "
      ]
     },
     "execution_count": 37,
     "metadata": {},
     "output_type": "execute_result"
    }
   ],
   "source": [
    "d[d.day=='SAT - MAT']"
   ]
  },
  {
   "cell_type": "code",
   "execution_count": 38,
   "metadata": {},
   "outputs": [],
   "source": [
    "month_lis = []\n",
    "for day in days:\n",
    "    l = d[d.day==day].date.tolist()\n",
    "    month_ind = 0\n",
    "    for i in range(len(l)):\n",
    "        if int(l[i-1])-int(l[i])>15:\n",
    "            month_ind += 1\n",
    "        month_lis.append(fall_months[month_ind])\n",
    "\n",
    "d['month'] = month_lis\n",
    "d['month_date'] = [sub[:3] for sub in d['month']]+d['date']\n",
    "d['date'] = [datetime.datetime.strptime(i, '%b%d').strftime('%b %d') for i in d['month_date'].tolist()]\n",
    "d = d.drop(['month', 'month_date'],axis=1)"
   ]
  },
  {
   "cell_type": "code",
   "execution_count": null,
   "metadata": {},
   "outputs": [],
   "source": [
    "# save to CSV and do for each!"
   ]
  },
  {
   "cell_type": "code",
   "execution_count": null,
   "metadata": {},
   "outputs": [],
   "source": [
    "### LINKS TO YOUTUBE VIDEOS SHOWING/DISCUSSING THESE PIECES THIS SEASON?\n",
    "\n",
    "## next steps -- need to search NYCB rep page for info on music, etc. more details on the piece"
   ]
  }
 ],
 "metadata": {
  "kernelspec": {
   "display_name": "nycb-75th-season-ybffBY_U",
   "language": "python",
   "name": "python3"
  },
  "language_info": {
   "codemirror_mode": {
    "name": "ipython",
    "version": 3
   },
   "file_extension": ".py",
   "mimetype": "text/x-python",
   "name": "python",
   "nbconvert_exporter": "python",
   "pygments_lexer": "ipython3",
   "version": "3.9.10"
  }
 },
 "nbformat": 4,
 "nbformat_minor": 2
}
